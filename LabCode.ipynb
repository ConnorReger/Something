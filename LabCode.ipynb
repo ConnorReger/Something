{
 "cells": [
  {
   "cell_type": "code",
   "execution_count": null,
   "metadata": {},
   "outputs": [
    {
     "name": "stdin",
     "output_type": "stream",
     "text": [
      "Please enter your name:  Connor\n",
      "Please enter a word super\n"
     ]
    },
    {
     "name": "stdout",
     "output_type": "stream",
     "text": [
      "Connor, Your word reversed is repus. \n",
      "\n"
     ]
    },
    {
     "name": "stdin",
     "output_type": "stream",
     "text": [
      "Please enter your name:  Ansel\n",
      "Please enter a word Root\n"
     ]
    },
    {
     "name": "stdout",
     "output_type": "stream",
     "text": [
      "Ansel, Your word reversed is tooR. \n",
      "\n"
     ]
    }
   ],
   "source": [
    "while 5>4:\n",
    "    boolean = \n",
    "    name = input(\"Please enter your name: \")\n",
    "    word = input(\"Please enter a word\")\n",
    "    final = \"\"\n",
    "    for n in range(0,len(word)):\n",
    "        final = (word[n])+final\n",
    "    print(name + \", Your word reversed is \"+ final + \". \")\n",
    "    print()"
   ]
  },
  {
   "cell_type": "code",
   "execution_count": null,
   "metadata": {},
   "outputs": [],
   "source": []
  }
 ],
 "metadata": {
  "kernelspec": {
   "display_name": "Python 3",
   "language": "python",
   "name": "python3"
  },
  "language_info": {
   "codemirror_mode": {
    "name": "ipython",
    "version": 3
   },
   "file_extension": ".py",
   "mimetype": "text/x-python",
   "name": "python",
   "nbconvert_exporter": "python",
   "pygments_lexer": "ipython3",
   "version": "3.8.3"
  }
 },
 "nbformat": 4,
 "nbformat_minor": 4
}
