{
 "cells": [
  {
   "cell_type": "code",
   "execution_count": 6,
   "metadata": {},
   "outputs": [
    {
     "name": "stdin",
     "output_type": "stream",
     "text": [
      "Would you like to have a word reversed?(Y/N) Y\n",
      "Please enter your name:  asdf\n",
      "Please enter a word asdf\n"
     ]
    },
    {
     "name": "stdout",
     "output_type": "stream",
     "text": [
      "asdf, Your word reversed is fdsa. \n",
      "\n"
     ]
    },
    {
     "name": "stdin",
     "output_type": "stream",
     "text": [
      "Would you like to have a word reversed?(Y/N) Y\n",
      "Please enter your name:  asdf\n",
      "Please enter a word asdf\n"
     ]
    },
    {
     "name": "stdout",
     "output_type": "stream",
     "text": [
      "asdf, Your word reversed is fdsa. \n",
      "\n"
     ]
    },
    {
     "name": "stdin",
     "output_type": "stream",
     "text": [
      "Would you like to have a word reversed?(Y/N) N\n"
     ]
    }
   ],
   "source": [
    "i = 5\n",
    "while i > 4:\n",
    "    quit = input(\"Would you like to have a word reversed?(Y/N)\")\n",
    "    if(quit == \"Y\"):\n",
    "        name = input(\"Please enter your name: \")\n",
    "        word = input(\"Please enter a word\")\n",
    "        final = \"\"\n",
    "        for n in range(0,len(word)):\n",
    "            final = (word[n])+final\n",
    "        print(name + \", Your word reversed is \"+ final + \". \")\n",
    "        print()\n",
    "    else:\n",
    "        i = 2"
   ]
  },
  {
   "cell_type": "code",
   "execution_count": null,
   "metadata": {},
   "outputs": [],
   "source": []
  }
 ],
 "metadata": {
  "kernelspec": {
   "display_name": "Python 3",
   "language": "python",
   "name": "python3"
  },
  "language_info": {
   "codemirror_mode": {
    "name": "ipython",
    "version": 3
   },
   "file_extension": ".py",
   "mimetype": "text/x-python",
   "name": "python",
   "nbconvert_exporter": "python",
   "pygments_lexer": "ipython3",
   "version": "3.8.3"
  }
 },
 "nbformat": 4,
 "nbformat_minor": 4
}
